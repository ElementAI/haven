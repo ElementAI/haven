{
 "cells": [
  {
   "cell_type": "code",
   "execution_count": null,
   "metadata": {},
   "outputs": [],
   "source": [
    "\n",
    "from haven import haven_jupyter as hj\n",
    "from haven import haven_results as hr\n",
    "from haven import haven_utils as hu\n",
    "\n",
    "# path to where the experiments got saved\n",
    "savedir_base = '/mnt/datasets/public/issam/tmp'\n",
    "exp_list = None\n",
    "\n",
    "# exp_list = hu.load_py(<exp_config_name>).EXP_GROUPS[<exp_group>]\n",
    "\n",
    "# get experiments\n",
    "rm = hr.ResultManager(exp_list=exp_list, \n",
    "                      savedir_base=savedir_base, \n",
    "                      filterby_list=filterby_list,\n",
    "                      verbose=verbose\n",
    "                     )\n",
    "\n",
    "# launch dashboard\n",
    "hj.get_dashboard(rm, vars(), wide_display=True)\n",
    "          "
   ]
  }
 ],
 "metadata": {},
 "nbformat": 4,
 "nbformat_minor": 2
}
